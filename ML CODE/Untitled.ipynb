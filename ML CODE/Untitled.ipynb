{
 "cells": [
  {
   "cell_type": "code",
   "execution_count": null,
   "metadata": {},
   "outputs": [],
   "source": [
    "from getEmbeddings import getEmbeddings\n",
    "import numpy as np\n",
    "from sklearn.svm import SVC\n",
    "import matplotlib.pyplot as plt\n",
    "import scikitplot.plotters as skplt\n",
    "import pandas as pd\n",
    "\n",
    "\n",
    "def plot_cmat(yte, ypred):\n",
    "    '''Plotting confusion matrix'''\n",
    "    skplt.plot_confusion_matrix(yte,ypred)\n",
    "    plt.show()\n",
    "\n",
    "\n",
    "xtr,xte,ytr,yte = getEmbeddings(\"datasets/kaggle.csv\")\n",
    "np.save('./xtr', xtr)\n",
    "np.save('./xte', xte)\n",
    "np.save('./ytr', ytr)\n",
    "np.save('./yte', yte)\n",
    "\n",
    "#print(pd.read_csv(\"datasets/combined_csv.csv\")['text'][82])\n",
    "#print(xte)\n",
    "# print(xte[82].shape)\n",
    "# print(xte[82])\n",
    "# print(xte)\n",
    "\n",
    "xtr = np.load('./xtr.npy')\n",
    "xte = np.load('./xte.npy')\n",
    "ytr = np.load('./ytr.npy')\n",
    "yte = np.load('./yte.npy')\n",
    "\n",
    "clf = SVC()\n",
    "clf.fit(xtr, ytr)\n",
    "y_pred = clf.predict(xte)\n",
    "m = yte.shape[0]\n",
    "n = (yte != y_pred).sum()\n",
    "tp = ((yte == y_pred) & (y_pred == 1)).sum()\n",
    "tn = ((yte == y_pred) & (y_pred == 0)).sum()\n",
    "fp = ((yte != y_pred) & (y_pred == 1)).sum()\n",
    "fn = ((yte != y_pred) & (y_pred == 0)).sum()\n",
    "plot_cmat(yte, y_pred)\n",
    "\n",
    "print(\"Accuracy = \" + format((tp+tn)/m*100, '.2f') + \"%\")   \n",
    "print(\"Precision = \" + format((tp)/(tp+fp)*100, '.2f') + \"%\")   \n",
    "print(\"Recall = \" + format((tp)/(tp+fn)*100, '.2f') + \"%\")  \n",
    "\n",
    "\n",
    "\n",
    "print(xte[82].shape)\n",
    "print(xte[82])\n",
    "print(xte)"
   ]
  },
  {
   "cell_type": "code",
   "execution_count": null,
   "metadata": {},
   "outputs": [],
   "source": []
  }
 ],
 "metadata": {
  "kernelspec": {
   "display_name": "Python 3",
   "language": "python",
   "name": "python3"
  },
  "language_info": {
   "codemirror_mode": {
    "name": "ipython",
    "version": 3
   },
   "file_extension": ".py",
   "mimetype": "text/x-python",
   "name": "python",
   "nbconvert_exporter": "python",
   "pygments_lexer": "ipython3",
   "version": "3.7.3"
  }
 },
 "nbformat": 4,
 "nbformat_minor": 2
}
