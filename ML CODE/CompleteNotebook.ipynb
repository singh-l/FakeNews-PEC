{
 "cells": [
  {
   "cell_type": "code",
   "execution_count": 3,
   "metadata": {},
   "outputs": [
    {
     "name": "stdout",
     "output_type": "stream",
     "text": [
      "Collecting scikit-plot\n",
      "  Downloading https://files.pythonhosted.org/packages/7c/47/32520e259340c140a4ad27c1b97050dd3254fdc517b1d59974d47037510e/scikit_plot-0.3.7-py3-none-any.whl\n",
      "Requirement already satisfied: joblib>=0.10 in /Users/lovedeepsingh/anaconda3/lib/python3.7/site-packages (from scikit-plot) (0.13.2)\n",
      "Requirement already satisfied: scikit-learn>=0.18 in /Users/lovedeepsingh/anaconda3/lib/python3.7/site-packages (from scikit-plot) (0.21.2)\n",
      "Requirement already satisfied: matplotlib>=1.4.0 in /Users/lovedeepsingh/anaconda3/lib/python3.7/site-packages (from scikit-plot) (3.1.0)\n",
      "Requirement already satisfied: scipy>=0.9 in /Users/lovedeepsingh/anaconda3/lib/python3.7/site-packages (from scikit-plot) (1.3.0)\n",
      "Requirement already satisfied: numpy>=1.11.0 in /Users/lovedeepsingh/anaconda3/lib/python3.7/site-packages (from scikit-learn>=0.18->scikit-plot) (1.16.4)\n",
      "Requirement already satisfied: cycler>=0.10 in /Users/lovedeepsingh/anaconda3/lib/python3.7/site-packages (from matplotlib>=1.4.0->scikit-plot) (0.10.0)\n",
      "Requirement already satisfied: kiwisolver>=1.0.1 in /Users/lovedeepsingh/anaconda3/lib/python3.7/site-packages (from matplotlib>=1.4.0->scikit-plot) (1.1.0)\n",
      "Requirement already satisfied: pyparsing!=2.0.4,!=2.1.2,!=2.1.6,>=2.0.1 in /Users/lovedeepsingh/anaconda3/lib/python3.7/site-packages (from matplotlib>=1.4.0->scikit-plot) (2.4.0)\n",
      "Requirement already satisfied: python-dateutil>=2.1 in /Users/lovedeepsingh/anaconda3/lib/python3.7/site-packages (from matplotlib>=1.4.0->scikit-plot) (2.8.0)\n",
      "Requirement already satisfied: six in /Users/lovedeepsingh/anaconda3/lib/python3.7/site-packages (from cycler>=0.10->matplotlib>=1.4.0->scikit-plot) (1.12.0)\n",
      "Requirement already satisfied: setuptools in /Users/lovedeepsingh/anaconda3/lib/python3.7/site-packages (from kiwisolver>=1.0.1->matplotlib>=1.4.0->scikit-plot) (41.0.1)\n",
      "Installing collected packages: scikit-plot\n",
      "Successfully installed scikit-plot-0.3.7\n",
      "Note: you may need to restart the kernel to use updated packages.\n"
     ]
    }
   ],
   "source": [
    "pip install scikit-plot"
   ]
  },
  {
   "cell_type": "code",
   "execution_count": 3,
   "metadata": {},
   "outputs": [
    {
     "name": "stderr",
     "output_type": "stream",
     "text": [
      "/Users/lovedeepsingh/anaconda3/lib/python3.7/site-packages/sklearn/svm/base.py:193: FutureWarning: The default value of gamma will change from 'auto' to 'scale' in version 0.22 to account better for unscaled features. Set gamma explicitly to 'auto' or 'scale' to avoid this warning.\n",
      "  \"avoid this warning.\", FutureWarning)\n",
      "/Users/lovedeepsingh/anaconda3/lib/python3.7/site-packages/sklearn/utils/deprecation.py:85: DeprecationWarning: Function plot_confusion_matrix is deprecated; This will be removed in v0.4.0. Please use scikitplot.metrics.plot_confusion_matrix instead.\n",
      "  warnings.warn(msg, category=DeprecationWarning)\n"
     ]
    },
    {
     "data": {
      "image/png": "[encoded data removed]",
      "text/plain": [
       "<Figure size 432x288 with 2 Axes>"
      ]
     },
     "metadata": {
      "needs_background": "light"
     },
     "output_type": "display_data"
    },
    {
     "name": "stdout",
     "output_type": "stream",
     "text": [
      "Accuracy = 82.29%\n",
      "Precision = 82.29%\n",
      "Recall = 100.00%\n",
      "(300,)\n",
      "[-1.23961590e-01 -9.37919468e-02 -2.95948714e-01  1.06799647e-01\n",
      " -1.76123738e-01  4.62098755e-02  6.08501546e-02 -4.45626765e-01\n",
      " -5.66376388e-01  1.54284805e-01 -2.98765749e-01 -3.12649846e-01\n",
      "  5.11347391e-02 -3.05354774e-01  2.54974157e-01 -9.95864347e-02\n",
      "  2.35373974e-02 -3.18755567e-01  1.38518631e-01  1.64007545e-02\n",
      "  5.89559367e-03 -2.99937427e-01 -1.37306243e-01  7.92893246e-02\n",
      " -2.09098421e-02  5.43357320e-02  1.78720057e-01 -1.35750830e-01\n",
      " -5.80481663e-02 -1.36216551e-01 -5.80860935e-02  7.32868388e-02\n",
      " -4.88748029e-02  1.21214516e-01 -2.53421009e-01  4.55138087e-02\n",
      "  4.21074808e-01 -4.51108962e-01 -6.71346337e-02  1.44472597e-02\n",
      "  1.82765812e-01  5.48675776e-01  1.96002200e-01 -1.38661591e-02\n",
      "  3.94583613e-01  1.04714662e-01  1.55213192e-01 -3.39946412e-02\n",
      "  3.52916658e-01  3.67560655e-01 -7.35104159e-02  1.51317388e-01\n",
      "  2.16869727e-01  5.50032109e-02 -4.86164272e-01  3.52371000e-02\n",
      " -1.44144788e-01  4.14855123e-01 -3.32034588e-01  8.27207044e-02\n",
      "  6.12416752e-02  3.18095647e-02 -3.73572975e-01 -1.18522339e-01\n",
      "  4.43460196e-01 -3.93802762e-01 -1.53980449e-01  4.06833626e-02\n",
      "  1.00941569e-01 -5.47748059e-02  3.98530178e-02 -3.46388429e-01\n",
      " -9.43727866e-02 -4.56481799e-02  4.86905932e-01 -4.15103510e-02\n",
      " -3.76262754e-01 -1.35022238e-01  2.78147049e-02 -8.54490772e-02\n",
      " -3.65281045e-01  1.64654285e-01 -3.34231675e-01  1.04466021e-01\n",
      " -1.44079328e-01 -3.45552802e-01  1.67708457e-01 -4.00044978e-01\n",
      "  2.59496987e-01  6.86633289e-02  2.30624571e-01 -2.19086111e-01\n",
      " -2.21278891e-01  4.11178261e-01 -3.79425734e-02  5.65704554e-02\n",
      "  4.06798758e-02 -2.39539500e-02  2.16560718e-02  1.96016386e-01\n",
      "  6.22753873e-02  7.47304261e-02  4.67225492e-01  4.27882075e-01\n",
      "  3.82695377e-01  1.28108755e-01  1.37645468e-01 -3.20720196e-01\n",
      "  8.75046253e-02 -7.21245864e-03  2.77363151e-01  1.44787624e-01\n",
      "  1.92755282e-01 -1.38149917e-01 -5.48242867e-01 -3.23796690e-01\n",
      "  3.78661305e-02  3.57271552e-01  1.16705596e-01  4.62213486e-01\n",
      " -5.23510315e-02  6.73841611e-02  6.18093461e-03 -9.36579108e-02\n",
      " -4.71988022e-01  1.96506500e-01 -2.76969016e-01 -2.99778581e-01\n",
      "  2.87473470e-01  2.26696193e-01 -1.80599408e-03 -3.15445185e-01\n",
      " -8.37143436e-02 -1.45177081e-01 -4.42211568e-01  3.57405454e-01\n",
      " -3.21461037e-02  1.69335157e-01 -1.36880592e-01 -2.73015022e-01\n",
      " -3.43530118e-01 -1.58817798e-01  7.50765726e-02 -1.48757815e-01\n",
      " -4.31611240e-01 -1.36648595e-01 -1.46041691e-01  3.86558548e-02\n",
      " -9.36384965e-03  4.67901193e-02  2.08064601e-01  6.61067516e-02\n",
      " -8.91268104e-02 -2.33047083e-01  1.18370585e-01  2.44537085e-01\n",
      " -4.06726509e-01 -1.38258472e-01 -6.98604733e-02 -1.85689777e-02\n",
      " -1.21228702e-01 -4.50321324e-02  1.47472516e-01  2.04673305e-01\n",
      " -8.32629669e-03  2.80770242e-01  9.28394794e-02 -1.56949721e-02\n",
      " -2.02346727e-01  1.24043748e-01  2.06815481e-01  1.68108732e-01\n",
      "  4.33196694e-01  1.79005086e-01  1.84912845e-01  4.21387255e-01\n",
      "  4.05224711e-02  1.50949180e-01  1.43374667e-01 -1.68507189e-01\n",
      " -1.07508525e-01 -1.00418158e-01  1.45937815e-01  1.75117068e-02\n",
      "  1.44550309e-01  1.12501286e-01 -6.34651065e-01 -6.45337850e-02\n",
      " -2.43649200e-01  1.59540385e-01  1.70263097e-01 -1.23729005e-01\n",
      "  2.20059514e-01 -2.07137540e-01 -6.82706982e-02 -1.88212559e-01\n",
      " -1.42506555e-01 -3.83981802e-02 -5.04982211e-02  2.00382486e-01\n",
      "  2.27743182e-02  1.36662364e-01  2.48181313e-01  1.90200508e-01\n",
      "  6.13329709e-02  7.26410970e-02 -9.54080597e-02 -2.65386939e-01\n",
      " -4.97582741e-02 -3.43469501e-01 -2.20987067e-01  3.89534712e-01\n",
      " -2.08455414e-01  1.35702893e-01 -1.49653181e-01 -4.60666902e-02\n",
      "  2.64704943e-01 -1.65227503e-01  1.83656961e-01  2.47035518e-01\n",
      " -8.00632313e-02  1.93940759e-01 -4.02965583e-02 -1.41944159e-02\n",
      "  8.99907053e-02  2.40004197e-01  1.32492930e-01 -4.78928350e-02\n",
      " -2.47474521e-01  2.61794716e-01 -7.69529864e-02  1.77861042e-02\n",
      " -1.89483948e-02 -1.54969603e-01  4.03536335e-02 -1.85242832e-01\n",
      "  1.87866285e-01  1.28090739e-01  1.07558601e-01  1.70878187e-01\n",
      " -7.33931288e-02  2.47286603e-01  1.99365377e-01  2.47969493e-01\n",
      "  1.29262470e-02 -7.51683861e-02 -6.68111965e-02 -9.30226073e-02\n",
      " -6.99192882e-02  1.41653821e-01 -1.67965919e-01  4.54468327e-03\n",
      " -4.42636043e-01  2.88032174e-01  5.02554893e-01 -4.85037059e-01\n",
      "  1.12203442e-01 -4.10984099e-01  2.53961593e-01 -1.02020852e-01\n",
      "  3.72759402e-01  2.38933697e-01 -1.30932592e-02 -9.07995477e-02\n",
      " -4.01763678e-01 -1.22528449e-01  5.97231137e-03  2.73024023e-01\n",
      "  1.66424617e-01 -3.18525732e-01  1.06393464e-01  2.17621982e-01\n",
      "  1.14003876e-02  1.48337811e-01  2.59092413e-02  2.22351775e-01\n",
      "  1.64834768e-01 -3.14984560e-01 -1.87245041e-01 -1.47012055e-01\n",
      " -2.61096731e-02 -2.26171330e-01  3.16256076e-01  4.80419882e-02\n",
      " -2.09450886e-01  8.12029839e-02 -5.80226406e-02  2.60398418e-01\n",
      " -5.36359847e-01  2.86857486e-01  1.15865029e-01  7.90195316e-02\n",
      " -9.22010541e-02  6.26717112e-04  2.04441443e-01 -1.67421386e-01\n",
      " -1.16044164e-01  2.95164466e-01 -1.47943646e-01  2.61657119e-01]\n",
      "[[ 0.00205472  0.00259127 -0.00366593 ... -0.02847406 -0.08147459\n",
      "   0.02157219]\n",
      " [-0.43552154 -0.09118874 -0.3854821  ... -0.25418797  0.01982818\n",
      "  -0.17954364]\n",
      " [ 0.07341985 -0.35502899  0.48655966 ... -0.37241811  0.08436465\n",
      "   0.18222412]\n",
      " ...\n",
      " [ 0.17878501  0.44580939  0.30165589 ... -0.74878871 -0.3053914\n",
      "  -0.7537055 ]\n",
      " [-0.21643415 -0.08324708  0.05585127 ...  0.23546098 -0.43873426\n",
      "  -0.03272793]\n",
      " [-0.19250874 -0.33971211  0.12525161 ...  0.0097561  -0.84034848\n",
      "  -0.22746249]]\n"
     ]
    }
   ],
   "source": [
    "from getEmbeddings import getEmbeddings\n",
    "import numpy as np\n",
    "from sklearn.svm import SVC\n",
    "import matplotlib.pyplot as plt\n",
    "import scikitplot.plotters as skplt\n",
    "import pandas as pd\n",
    "\n",
    "\n",
    "def plot_cmat(yte, ypred):\n",
    "    '''Plotting confusion matrix'''\n",
    "    skplt.plot_confusion_matrix(yte,ypred)\n",
    "    plt.show()\n",
    "\n",
    "\n",
    "xtr,xte,ytr,yte = getEmbeddings(\"datasets/kaggle.csv\")\n",
    "np.save('./xtr', xtr)\n",
    "np.save('./xte', xte)\n",
    "np.save('./ytr', ytr)\n",
    "np.save('./yte', yte)\n",
    "\n",
    "#print(pd.read_csv(\"datasets/combined_csv.csv\")['text'][82])\n",
    "#print(xte)\n",
    "# print(xte[82].shape)\n",
    "# print(xte[82])\n",
    "# print(xte)\n",
    "\n",
    "xtr = np.load('./xtr.npy')\n",
    "xte = np.load('./xte.npy')\n",
    "ytr = np.load('./ytr.npy')\n",
    "yte = np.load('./yte.npy')\n",
    "xttr,xtte,yttr,ytte = getEmbeddings(\"datasets/combined_csv.csv\")\n",
    "clf = SVC()\n",
    "clf.fit(xtr, ytr)\n",
    "y_pred = clf.predict(xtte)\n",
    "m = ytte.shape[0]\n",
    "n = (ytte != y_pred).sum()\n",
    "tp = ((ytte == y_pred) & (y_pred == 1)).sum()\n",
    "tn = ((ytte == y_pred) & (y_pred == 0)).sum()\n",
    "fp = ((ytte != y_pred) & (y_pred == 1)).sum()\n",
    "fn = ((ytte != y_pred) & (y_pred == 0)).sum()\n",
    "plot_cmat(ytte, y_pred)\n",
    "\n",
    "print(\"Accuracy = \" + format((tp+tn)/m*100, '.2f') + \"%\")   \n",
    "print(\"Precision = \" + format((tp)/(tp+fp)*100, '.2f') + \"%\")   \n",
    "print(\"Recall = \" + format((tp)/(tp+fn)*100, '.2f') + \"%\")  \n",
    "\n",
    "\n",
    "\n",
    "print(xte[82].shape)\n",
    "print(xte[82])\n",
    "print(xte)"
   ]
  },
  {
   "cell_type": "code",
   "execution_count": 5,
   "metadata": {},
   "outputs": [
    {
     "name": "stderr",
     "output_type": "stream",
     "text": [
      "/Users/lovedeepsingh/anaconda3/lib/python3.7/site-packages/sklearn/utils/deprecation.py:85: DeprecationWarning: Function plot_confusion_matrix is deprecated; This will be removed in v0.4.0. Please use scikitplot.metrics.plot_confusion_matrix instead.\n",
      "  warnings.warn(msg, category=DeprecationWarning)\n"
     ]
    },
    {
     "data": {
      "image/png": "[encoded data removed]",
      "text/plain": [
       "<Figure size 432x288 with 2 Axes>"
      ]
     },
     "metadata": {
      "needs_background": "light"
     },
     "output_type": "display_data"
    }
   ],
   "source": [
    "y_pred = clf.predict(xttr)\n",
    "m = yttr.shape[0]\n",
    "n = (yttr != y_pred).sum()\n",
    "tp = ((yttr == y_pred) & (y_pred == 1)).sum()\n",
    "tn = ((yttr == y_pred) & (y_pred == 0)).sum()\n",
    "fp = ((yttr != y_pred) & (y_pred == 1)).sum()\n",
    "fn = ((yttr != y_pred) & (y_pred == 0)).sum()\n",
    "plot_cmat(yttr, y_pred)\n",
    "\n"
   ]
  },
  {
   "cell_type": "code",
   "execution_count": 40,
   "metadata": {},
   "outputs": [
    {
     "name": "stderr",
     "output_type": "stream",
     "text": [
      "/Users/lovedeepsingh/anaconda3/lib/python3.7/site-packages/sklearn/utils/deprecation.py:85: DeprecationWarning: Function plot_confusion_matrix is deprecated; This will be removed in v0.4.0. Please use scikitplot.metrics.plot_confusion_matrix instead.\n",
      "  warnings.warn(msg, category=DeprecationWarning)\n"
     ]
    },
    {
     "data": {
      "image/png": "[encoded data removed]",
      "text/plain": [
       "<Figure size 432x288 with 2 Axes>"
      ]
     },
     "metadata": {
      "needs_background": "light"
     },
     "output_type": "display_data"
    },
    {
     "name": "stdout",
     "output_type": "stream",
     "text": [
      "Accuracy = 72.21%\n",
      "Precision = 67.91%\n",
      "Recall = 85.76%\n"
     ]
    }
   ],
   "source": [
    "from getEmbeddings import getEmbeddings\n",
    "from sklearn.naive_bayes import GaussianNB\n",
    "import numpy as np\n",
    "import matplotlib.pyplot as plt\n",
    "import scikitplot.plotters as skplt\n",
    "\n",
    "\n",
    "def plot_cmat(yte, ypred):\n",
    "    '''Plotting confusion matrix'''\n",
    "    skplt.plot_confusion_matrix(yte,ypred)\n",
    "    plt.show()\n",
    "\n",
    "\n",
    "xtr,xte,ytr,yte = getEmbeddings(\"datasets/kaggle.csv\")\n",
    "np.save('./xtr', xtr)\n",
    "np.save('./xte', xte)\n",
    "np.save('./ytr', ytr)\n",
    "np.save('./yte', yte)\n",
    "\n",
    "xtr = np.load('./xtr.npy')\n",
    "xte = np.load('./xte.npy')\n",
    "ytr = np.load('./ytr.npy')\n",
    "yte = np.load('./yte.npy')\n",
    "\n",
    "gnb = GaussianNB()\n",
    "gnb.fit(xtr,ytr)\n",
    "y_pred = gnb.predict(xte)\n",
    "m = yte.shape[0]\n",
    "n = (yte != y_pred).sum()\n",
    "tp = ((yte == y_pred) & (y_pred == 1)).sum()\n",
    "tn = ((yte == y_pred) & (y_pred == 0)).sum()\n",
    "fp = ((yte != y_pred) & (y_pred == 1)).sum()\n",
    "fn = ((yte != y_pred) & (y_pred == 0)).sum()\n",
    "plot_cmat(yte, y_pred)\n",
    "\n",
    "print(\"Accuracy = \" + format((tp+tn)/m*100, '.2f') + \"%\")   \n",
    "print(\"Precision = \" + format((tp)/(tp+fp)*100, '.2f') + \"%\")   \n",
    "print(\"Recall = \" + format((tp)/(tp+fn)*100, '.2f') + \"%\")  \n",
    "\n",
    "\n"
   ]
  },
  {
   "cell_type": "code",
   "execution_count": null,
   "metadata": {},
   "outputs": [],
   "source": []
  }
 ],
 "metadata": {
  "kernelspec": {
   "display_name": "Python 3",
   "language": "python",
   "name": "python3"
  },
  "language_info": {
   "codemirror_mode": {
    "name": "ipython",
    "version": 3
   },
   "file_extension": ".py",
   "mimetype": "text/x-python",
   "name": "python",
   "nbconvert_exporter": "python",
   "pygments_lexer": "ipython3",
   "version": "3.7.3"
  }
 },
 "nbformat": 4,
 "nbformat_minor": 2
}
