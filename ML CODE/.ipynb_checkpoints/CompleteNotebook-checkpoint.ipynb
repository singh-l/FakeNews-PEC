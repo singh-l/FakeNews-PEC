{
 "cells": [
  {
   "cell_type": "code",
   "execution_count": 3,
   "metadata": {},
   "outputs": [
    {
     "name": "stdout",
     "output_type": "stream",
     "text": [
      "Collecting scikit-plot\n",
      "  Downloading https://files.pythonhosted.org/packages/7c/47/32520e259340c140a4ad27c1b97050dd3254fdc517b1d59974d47037510e/scikit_plot-0.3.7-py3-none-any.whl\n",
      "Requirement already satisfied: joblib>=0.10 in /Users/lovedeepsingh/anaconda3/lib/python3.7/site-packages (from scikit-plot) (0.13.2)\n",
      "Requirement already satisfied: scikit-learn>=0.18 in /Users/lovedeepsingh/anaconda3/lib/python3.7/site-packages (from scikit-plot) (0.21.2)\n",
      "Requirement already satisfied: matplotlib>=1.4.0 in /Users/lovedeepsingh/anaconda3/lib/python3.7/site-packages (from scikit-plot) (3.1.0)\n",
      "Requirement already satisfied: scipy>=0.9 in /Users/lovedeepsingh/anaconda3/lib/python3.7/site-packages (from scikit-plot) (1.3.0)\n",
      "Requirement already satisfied: numpy>=1.11.0 in /Users/lovedeepsingh/anaconda3/lib/python3.7/site-packages (from scikit-learn>=0.18->scikit-plot) (1.16.4)\n",
      "Requirement already satisfied: cycler>=0.10 in /Users/lovedeepsingh/anaconda3/lib/python3.7/site-packages (from matplotlib>=1.4.0->scikit-plot) (0.10.0)\n",
      "Requirement already satisfied: kiwisolver>=1.0.1 in /Users/lovedeepsingh/anaconda3/lib/python3.7/site-packages (from matplotlib>=1.4.0->scikit-plot) (1.1.0)\n",
      "Requirement already satisfied: pyparsing!=2.0.4,!=2.1.2,!=2.1.6,>=2.0.1 in /Users/lovedeepsingh/anaconda3/lib/python3.7/site-packages (from matplotlib>=1.4.0->scikit-plot) (2.4.0)\n",
      "Requirement already satisfied: python-dateutil>=2.1 in /Users/lovedeepsingh/anaconda3/lib/python3.7/site-packages (from matplotlib>=1.4.0->scikit-plot) (2.8.0)\n",
      "Requirement already satisfied: six in /Users/lovedeepsingh/anaconda3/lib/python3.7/site-packages (from cycler>=0.10->matplotlib>=1.4.0->scikit-plot) (1.12.0)\n",
      "Requirement already satisfied: setuptools in /Users/lovedeepsingh/anaconda3/lib/python3.7/site-packages (from kiwisolver>=1.0.1->matplotlib>=1.4.0->scikit-plot) (41.0.1)\n",
      "Installing collected packages: scikit-plot\n",
      "Successfully installed scikit-plot-0.3.7\n",
      "Note: you may need to restart the kernel to use updated packages.\n"
     ]
    }
   ],
   "source": [
    "pip install scikit-plot"
   ]
  },
  {
   "cell_type": "code",
   "execution_count": 10,
   "metadata": {},
   "outputs": [
    {
     "ename": "TypeError",
     "evalue": "'type' object is not subscriptable",
     "output_type": "error",
     "traceback": [
      "\u001b[0;31m---------------------------------------------------------------------------\u001b[0m",
      "\u001b[0;31mTypeError\u001b[0m                                 Traceback (most recent call last)",
      "\u001b[0;32m<ipython-input-10-9b5eda0af82b>\u001b[0m in \u001b[0;36m<module>\u001b[0;34m\u001b[0m\n\u001b[1;32m     13\u001b[0m \u001b[0;34m\u001b[0m\u001b[0m\n\u001b[1;32m     14\u001b[0m \u001b[0;34m\u001b[0m\u001b[0m\n\u001b[0;32m---> 15\u001b[0;31m \u001b[0mxtr\u001b[0m\u001b[0;34m,\u001b[0m\u001b[0mxte\u001b[0m\u001b[0;34m,\u001b[0m\u001b[0mytr\u001b[0m\u001b[0;34m,\u001b[0m\u001b[0myte\u001b[0m \u001b[0;34m=\u001b[0m \u001b[0mgetEmbeddings\u001b[0m\u001b[0;34m(\u001b[0m\u001b[0;34m\"datasets/combined_csv.csv\"\u001b[0m\u001b[0;34m)\u001b[0m\u001b[0;34m\u001b[0m\u001b[0;34m\u001b[0m\u001b[0m\n\u001b[0m\u001b[1;32m     16\u001b[0m \u001b[0mnp\u001b[0m\u001b[0;34m.\u001b[0m\u001b[0msave\u001b[0m\u001b[0;34m(\u001b[0m\u001b[0;34m'./xtr'\u001b[0m\u001b[0;34m,\u001b[0m \u001b[0mxtr\u001b[0m\u001b[0;34m)\u001b[0m\u001b[0;34m\u001b[0m\u001b[0;34m\u001b[0m\u001b[0m\n\u001b[1;32m     17\u001b[0m \u001b[0mnp\u001b[0m\u001b[0;34m.\u001b[0m\u001b[0msave\u001b[0m\u001b[0;34m(\u001b[0m\u001b[0;34m'./xte'\u001b[0m\u001b[0;34m,\u001b[0m \u001b[0mxte\u001b[0m\u001b[0;34m)\u001b[0m\u001b[0;34m\u001b[0m\u001b[0;34m\u001b[0m\u001b[0m\n",
      "\u001b[0;32m~/Desktop/MajorProjectFakeNews/ML CODE/getEmbeddings.py\u001b[0m in \u001b[0;36mgetEmbeddings\u001b[0;34m(path, vector_dimension)\u001b[0m\n\u001b[1;32m     61\u001b[0m     \u001b[0;32mfor\u001b[0m \u001b[0mi\u001b[0m \u001b[0;32min\u001b[0m \u001b[0mrange\u001b[0m\u001b[0;34m(\u001b[0m\u001b[0mtrain_size\u001b[0m\u001b[0;34m)\u001b[0m\u001b[0;34m:\u001b[0m\u001b[0;34m\u001b[0m\u001b[0;34m\u001b[0m\u001b[0m\n\u001b[1;32m     62\u001b[0m         \u001b[0mtext_train_arrays\u001b[0m\u001b[0;34m[\u001b[0m\u001b[0mi\u001b[0m\u001b[0;34m]\u001b[0m \u001b[0;34m=\u001b[0m \u001b[0mtext_model\u001b[0m\u001b[0;34m.\u001b[0m\u001b[0mdocvecs\u001b[0m\u001b[0;34m[\u001b[0m\u001b[0;34m'Text_'\u001b[0m \u001b[0;34m+\u001b[0m \u001b[0mstr\u001b[0m\u001b[0;34m(\u001b[0m\u001b[0mi\u001b[0m\u001b[0;34m)\u001b[0m\u001b[0;34m]\u001b[0m\u001b[0;34m\u001b[0m\u001b[0;34m\u001b[0m\u001b[0m\n\u001b[0;32m---> 63\u001b[0;31m         \u001b[0mtrain_labels\u001b[0m\u001b[0;34m[\u001b[0m\u001b[0mi\u001b[0m\u001b[0;34m]\u001b[0m \u001b[0;34m=\u001b[0m \u001b[0my\u001b[0m\u001b[0;34m[\u001b[0m\u001b[0mi\u001b[0m\u001b[0;34m]\u001b[0m\u001b[0;34m\u001b[0m\u001b[0;34m\u001b[0m\u001b[0m\n\u001b[0m\u001b[1;32m     64\u001b[0m \u001b[0;34m\u001b[0m\u001b[0m\n\u001b[1;32m     65\u001b[0m     \u001b[0mj\u001b[0m \u001b[0;34m=\u001b[0m \u001b[0;36m0\u001b[0m\u001b[0;34m\u001b[0m\u001b[0;34m\u001b[0m\u001b[0m\n",
      "\u001b[0;31mTypeError\u001b[0m: 'type' object is not subscriptable"
     ]
    }
   ],
   "source": [
    "from getEmbeddings import getEmbeddings\n",
    "import numpy as np\n",
    "from sklearn.svm import SVC\n",
    "import matplotlib.pyplot as plt\n",
    "import scikitplot.plotters as skplt\n",
    "import pandas as pd\n",
    "\n",
    "\n",
    "def plot_cmat(yte, ypred):\n",
    "    '''Plotting confusion matrix'''\n",
    "    skplt.plot_confusion_matrix(yte,ypred)\n",
    "    plt.show()\n",
    "\n",
    "\n",
    "xtr,xte,ytr,yte = getEmbeddings(\"datasets/kaggle.csv\")\n",
    "np.save('./xtr', xtr)\n",
    "np.save('./xte', xte)\n",
    "np.save('./ytr', ytr)\n",
    "np.save('./yte', yte)\n",
    "\n",
    "#print(pd.read_csv(\"datasets/combined_csv.csv\")['text'][82])\n",
    "#print(xte)\n",
    "# print(xte[82].shape)\n",
    "# print(xte[82])\n",
    "# print(xte)\n",
    "\n",
    "xtr = np.load('./xtr.npy')\n",
    "xte = np.load('./xte.npy')\n",
    "ytr = np.load('./ytr.npy')\n",
    "yte = np.load('./yte.npy')\n",
    "\n",
    "clf = SVC()\n",
    "clf.fit(xtr, ytr)\n",
    "y_pred = clf.predict(xte)\n",
    "m = yte.shape[0]\n",
    "n = (yte != y_pred).sum()\n",
    "tp = ((yte == y_pred) & (y_pred == 1)).sum()\n",
    "tn = ((yte == y_pred) & (y_pred == 0)).sum()\n",
    "fp = ((yte != y_pred) & (y_pred == 1)).sum()\n",
    "fn = ((yte != y_pred) & (y_pred == 0)).sum()\n",
    "plot_cmat(yte, y_pred)\n",
    "\n",
    "print(\"Accuracy = \" + format((tp+tn)/m*100, '.2f') + \"%\")   \n",
    "print(\"Precision = \" + format((tp)/(tp+fp)*100, '.2f') + \"%\")   \n",
    "print(\"Recall = \" + format((tp)/(tp+fn)*100, '.2f') + \"%\")  \n",
    "\n",
    "\n",
    "\n",
    "print(xte[82].shape)\n",
    "print(xte[82])\n",
    "print(xte)"
   ]
  },
  {
   "cell_type": "code",
   "execution_count": 2,
   "metadata": {},
   "outputs": [
    {
     "name": "stdout",
     "output_type": "stream",
     "text": [
      "Accuracy = 82.29%\n"
     ]
    }
   ],
   "source": [
    "print(\"Accuracy = \" + format((m-n)/m*100, '.2f') + \"%\")   # 88.42%"
   ]
  },
  {
   "cell_type": "code",
   "execution_count": 40,
   "metadata": {},
   "outputs": [
    {
     "name": "stderr",
     "output_type": "stream",
     "text": [
      "/Users/lovedeepsingh/anaconda3/lib/python3.7/site-packages/sklearn/utils/deprecation.py:85: DeprecationWarning: Function plot_confusion_matrix is deprecated; This will be removed in v0.4.0. Please use scikitplot.metrics.plot_confusion_matrix instead.\n",
      "  warnings.warn(msg, category=DeprecationWarning)\n"
     ]
    },
    {
     "data": {
      "image/png": "[encoded data removed]",
      "text/plain": [
       "<Figure size 432x288 with 2 Axes>"
      ]
     },
     "metadata": {
      "needs_background": "light"
     },
     "output_type": "display_data"
    },
    {
     "name": "stdout",
     "output_type": "stream",
     "text": [
      "Accuracy = 72.21%\n",
      "Precision = 67.91%\n",
      "Recall = 85.76%\n"
     ]
    }
   ],
   "source": [
    "from getEmbeddings import getEmbeddings\n",
    "from sklearn.naive_bayes import GaussianNB\n",
    "import numpy as np\n",
    "import matplotlib.pyplot as plt\n",
    "import scikitplot.plotters as skplt\n",
    "\n",
    "\n",
    "def plot_cmat(yte, ypred):\n",
    "    '''Plotting confusion matrix'''\n",
    "    skplt.plot_confusion_matrix(yte,ypred)\n",
    "    plt.show()\n",
    "\n",
    "\n",
    "xtr,xte,ytr,yte = getEmbeddings(\"datasets/kaggle.csv\")\n",
    "np.save('./xtr', xtr)\n",
    "np.save('./xte', xte)\n",
    "np.save('./ytr', ytr)\n",
    "np.save('./yte', yte)\n",
    "\n",
    "xtr = np.load('./xtr.npy')\n",
    "xte = np.load('./xte.npy')\n",
    "ytr = np.load('./ytr.npy')\n",
    "yte = np.load('./yte.npy')\n",
    "\n",
    "gnb = GaussianNB()\n",
    "gnb.fit(xtr,ytr)\n",
    "y_pred = gnb.predict(xte)\n",
    "m = yte.shape[0]\n",
    "n = (yte != y_pred).sum()\n",
    "tp = ((yte == y_pred) & (y_pred == 1)).sum()\n",
    "tn = ((yte == y_pred) & (y_pred == 0)).sum()\n",
    "fp = ((yte != y_pred) & (y_pred == 1)).sum()\n",
    "fn = ((yte != y_pred) & (y_pred == 0)).sum()\n",
    "plot_cmat(yte, y_pred)\n",
    "\n",
    "print(\"Accuracy = \" + format((tp+tn)/m*100, '.2f') + \"%\")   \n",
    "print(\"Precision = \" + format((tp)/(tp+fp)*100, '.2f') + \"%\")   \n",
    "print(\"Recall = \" + format((tp)/(tp+fn)*100, '.2f') + \"%\")  \n",
    "\n",
    "\n"
   ]
  },
  {
   "cell_type": "code",
   "execution_count": null,
   "metadata": {},
   "outputs": [],
   "source": []
  }
 ],
 "metadata": {
  "kernelspec": {
   "display_name": "Python 3",
   "language": "python",
   "name": "python3"
  },
  "language_info": {
   "codemirror_mode": {
    "name": "ipython",
    "version": 3
   },
   "file_extension": ".py",
   "mimetype": "text/x-python",
   "name": "python",
   "nbconvert_exporter": "python",
   "pygments_lexer": "ipython3",
   "version": "3.7.3"
  }
 },
 "nbformat": 4,
 "nbformat_minor": 2
}
